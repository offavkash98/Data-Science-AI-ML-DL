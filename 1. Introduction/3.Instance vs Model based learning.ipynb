{
 "cells": [
  {
   "cell_type": "markdown",
   "metadata": {},
   "source": [
    "Comparison between **Instance-Based Learning** and **Model-Based Learning**:\n",
    "\n",
    "### **Instance-Based vs. Model-Based Learning**\n",
    "\n",
    "| **Feature**               | **Instance-Based Learning** (Lazy Learning)       | **Model-Based Learning** (Eager Learning)      |\n",
    "|---------------------------|--------------------------------------------------|-----------------------------------------------|\n",
    "| **Core Principle**        | Memorizes training data, generalizes at prediction time | Learns a model from training data, discards original data |\n",
    "| **Training Phase**        | Fast (just stores data)                          | Slow (computationally intensive)              |\n",
    "| **Prediction Phase**      | Slow (searches through stored data)              | Fast (uses pre-built model)                   |\n",
    "| **Memory Usage**         | High (stores all training instances)             | Low (only stores model parameters)            |\n",
    "| **Handling New Data**    | Adapts immediately                               | Requires retraining                           |\n",
    "| **Examples**             | k-Nearest Neighbors (k-NN), Case-Based Reasoning | Linear Regression, Decision Trees, Neural Nets |\n",
    "| **Best For**             | Small datasets, complex local patterns          | Large datasets, global generalizations        |\n",
    "| **Sensitivity to Noise** | High (no explicit noise filtering)               | Low (model can filter noise during training)  |\n",
    "\n",
    "### **Key Differences Explained:**\n",
    "\n",
    "1. **Learning Approach**:\n",
    "   - **Instance-Based**: Like an \"open-book exam\" - refers to raw data during prediction.\n",
    "   - **Model-Based**: Like a \"closed-book exam\" - compresses knowledge into a model.\n",
    "\n",
    "2. **Computational Trade-off**:\n",
    "   - Instance-based shifts computation to prediction time.\n",
    "   - Model-based does heavy lifting during training.\n",
    "\n",
    "3. **Typical Use Cases**:\n",
    "   - Use k-NN (instance) for recommendation systems where data doesn't change often.\n",
    "   - Use Random Forest (model) for real-time predictions like fraud detection.\n",
    "\n",
    "### **Visual Analogy:**\n",
    "```\n",
    "Instance-Based Learning:\n",
    "[Training Data] → [Memory] → Compare new point to all stored points at prediction time\n",
    "\n",
    "Model-Based Learning:\n",
    "[Training Data] → [Model Training] → [Compact Model] → Use model for predictions\n",
    "```\n",
    "\n",
    "**When to Choose Which?**\n",
    "- Pick *instance-based* when you need to preserve subtle data patterns and have sufficient storage.\n",
    "- Choose *model-based* for scalable deployments where prediction speed matters.\n"
   ]
  },
  {
   "cell_type": "markdown",
   "metadata": {},
   "source": []
  }
 ],
 "metadata": {
  "language_info": {
   "name": "python"
  }
 },
 "nbformat": 4,
 "nbformat_minor": 2
}
