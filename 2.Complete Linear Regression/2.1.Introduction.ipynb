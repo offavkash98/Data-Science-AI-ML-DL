{
 "cells": [
  {
   "cell_type": "markdown",
   "metadata": {},
   "source": [
    "Simple Linear Regression\n",
    "Simple Linear Regression is a basic statistical method used to model the relationship between two continuous variables:\n",
    "\n",
    "Independent variable (X) – also called the predictor or feature\n",
    "\n",
    "Dependent variable (Y) – also called the response or target\n",
    "\n",
    "The goal of linear regression is to find the best-fitting straight line (regression line) that predicts Y based on X.\n",
    "\n",
    "Mathematical Formula\n",
    "The equation of a simple linear regression line is:\n",
    "\n",
    "𝑌\n",
    "=\n",
    "𝑚\n",
    "𝑋\n",
    "+\n",
    "𝑐\n",
    "+\n",
    "𝜖\n",
    "Y=mX+c+ϵ\n",
    "Where:\n",
    "\n",
    "Y = Predicted value (dependent variable)\n",
    "\n",
    "X = Input feature (independent variable)\n",
    "\n",
    "m = Slope of the regression line (how much Y changes for a unit change in X)\n",
    "\n",
    "c = Intercept (value of Y when X = 0)\n",
    "\n"
   ]
  },
  {
   "cell_type": "markdown",
   "metadata": {},
   "source": []
  }
 ],
 "metadata": {
  "language_info": {
   "name": "python"
  }
 },
 "nbformat": 4,
 "nbformat_minor": 2
}
